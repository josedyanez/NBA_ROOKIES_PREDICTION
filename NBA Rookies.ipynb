{
 "cells": [
  {
   "cell_type": "markdown",
   "metadata": {},
   "source": [
    "# Predict Career Longevity for NBA Rookies\n",
    "\n",
    "![Basketball](https://i.imgur.com/YIaYQ8C.png)\n",
    "\n",
    "For this project you are going to build your own binary classification model using Scikit-learn to predict if the NBA rookie will last for 5 years in the league if provided with some information such as Games played, assists, steals and turnovers …. etc. \n",
    "\n",
    "---\n",
    "\n",
    "Dataset Source : [Data world](https://data.world/exercises/logistic-regression-exercise-1)\n",
    "\n",
    "## We will focus on :\n",
    "    \n",
    "    1) features selection using heatmap correlation\n",
    "    2) Logistic regression\n",
    "\n"
   ]
  },
  {
   "cell_type": "markdown",
   "metadata": {},
   "source": [
    "# Task 1: Import libraries and load the data "
   ]
  },
  {
   "cell_type": "markdown",
   "metadata": {},
   "source": [
    "# Task 1.1: Import libraries"
   ]
  },
  {
   "cell_type": "code",
   "execution_count": 2,
   "metadata": {},
   "outputs": [],
   "source": [
    "import pandas as pd # load and manipulate data \n",
    "import numpy as np # calculate the mean and standard deviation\n",
    "import matplotlib.pyplot as plt # drawing graphs\n",
    "from sklearn.model_selection import train_test_split # split  data into training and testing sets\n",
    "from sklearn.linear_model import LogisticRegression # import Logistic regression from sklearn\n",
    "import warnings # import warnings\n",
    "import sklearn.metrics as metrics # import metrics \n",
    "import seaborn as sns # import seaborn for visualization \n",
    "from sklearn.preprocessing import MinMaxScaler #import min max scaler\n",
    "from IPython.display import Image # library to import image\n",
    "from sklearn.metrics import confusion_matrix#confusion matrix\n",
    "from yellowbrick.classifier import ROCAUC#Discriminationthreshold"
   ]
  },
  {
   "cell_type": "code",
   "execution_count": null,
   "metadata": {},
   "outputs": [],
   "source": []
  },
  {
   "cell_type": "code",
   "execution_count": null,
   "metadata": {},
   "outputs": [],
   "source": []
  },
  {
   "cell_type": "markdown",
   "metadata": {},
   "source": [
    "# Task 1.2: Load the dataset "
   ]
  },
  {
   "cell_type": "code",
   "execution_count": 3,
   "metadata": {},
   "outputs": [],
   "source": [
    "#import the dataframe \n",
    "df=pd.read_csv(\"nba_logreg.csv\")"
   ]
  },
  {
   "cell_type": "code",
   "execution_count": 4,
   "metadata": {},
   "outputs": [
    {
     "data": {
      "text/html": [
       "<div>\n",
       "<style scoped>\n",
       "    .dataframe tbody tr th:only-of-type {\n",
       "        vertical-align: middle;\n",
       "    }\n",
       "\n",
       "    .dataframe tbody tr th {\n",
       "        vertical-align: top;\n",
       "    }\n",
       "\n",
       "    .dataframe thead th {\n",
       "        text-align: right;\n",
       "    }\n",
       "</style>\n",
       "<table border=\"1\" class=\"dataframe\">\n",
       "  <thead>\n",
       "    <tr style=\"text-align: right;\">\n",
       "      <th></th>\n",
       "      <th>Name</th>\n",
       "      <th>GP</th>\n",
       "      <th>MIN</th>\n",
       "      <th>PTS</th>\n",
       "      <th>FGM</th>\n",
       "      <th>FGA</th>\n",
       "      <th>FG%</th>\n",
       "      <th>3P Made</th>\n",
       "      <th>3PA</th>\n",
       "      <th>3P%</th>\n",
       "      <th>...</th>\n",
       "      <th>FTA</th>\n",
       "      <th>FT%</th>\n",
       "      <th>OREB</th>\n",
       "      <th>DREB</th>\n",
       "      <th>REB</th>\n",
       "      <th>AST</th>\n",
       "      <th>STL</th>\n",
       "      <th>BLK</th>\n",
       "      <th>TOV</th>\n",
       "      <th>TARGET_5Yrs</th>\n",
       "    </tr>\n",
       "  </thead>\n",
       "  <tbody>\n",
       "    <tr>\n",
       "      <th>0</th>\n",
       "      <td>Brandon Ingram</td>\n",
       "      <td>36</td>\n",
       "      <td>27.4</td>\n",
       "      <td>7.4</td>\n",
       "      <td>2.6</td>\n",
       "      <td>7.6</td>\n",
       "      <td>34.7</td>\n",
       "      <td>0.5</td>\n",
       "      <td>2.1</td>\n",
       "      <td>25.0</td>\n",
       "      <td>...</td>\n",
       "      <td>2.3</td>\n",
       "      <td>69.9</td>\n",
       "      <td>0.7</td>\n",
       "      <td>3.4</td>\n",
       "      <td>4.1</td>\n",
       "      <td>1.9</td>\n",
       "      <td>0.4</td>\n",
       "      <td>0.4</td>\n",
       "      <td>1.3</td>\n",
       "      <td>0.0</td>\n",
       "    </tr>\n",
       "    <tr>\n",
       "      <th>1</th>\n",
       "      <td>Andrew Harrison</td>\n",
       "      <td>35</td>\n",
       "      <td>26.9</td>\n",
       "      <td>7.2</td>\n",
       "      <td>2.0</td>\n",
       "      <td>6.7</td>\n",
       "      <td>29.6</td>\n",
       "      <td>0.7</td>\n",
       "      <td>2.8</td>\n",
       "      <td>23.5</td>\n",
       "      <td>...</td>\n",
       "      <td>3.4</td>\n",
       "      <td>76.5</td>\n",
       "      <td>0.5</td>\n",
       "      <td>2.0</td>\n",
       "      <td>2.4</td>\n",
       "      <td>3.7</td>\n",
       "      <td>1.1</td>\n",
       "      <td>0.5</td>\n",
       "      <td>1.6</td>\n",
       "      <td>0.0</td>\n",
       "    </tr>\n",
       "    <tr>\n",
       "      <th>2</th>\n",
       "      <td>JaKarr Sampson</td>\n",
       "      <td>74</td>\n",
       "      <td>15.3</td>\n",
       "      <td>5.2</td>\n",
       "      <td>2.0</td>\n",
       "      <td>4.7</td>\n",
       "      <td>42.2</td>\n",
       "      <td>0.4</td>\n",
       "      <td>1.7</td>\n",
       "      <td>24.4</td>\n",
       "      <td>...</td>\n",
       "      <td>1.3</td>\n",
       "      <td>67.0</td>\n",
       "      <td>0.5</td>\n",
       "      <td>1.7</td>\n",
       "      <td>2.2</td>\n",
       "      <td>1.0</td>\n",
       "      <td>0.5</td>\n",
       "      <td>0.3</td>\n",
       "      <td>1.0</td>\n",
       "      <td>0.0</td>\n",
       "    </tr>\n",
       "    <tr>\n",
       "      <th>3</th>\n",
       "      <td>Malik Sealy</td>\n",
       "      <td>58</td>\n",
       "      <td>11.6</td>\n",
       "      <td>5.7</td>\n",
       "      <td>2.3</td>\n",
       "      <td>5.5</td>\n",
       "      <td>42.6</td>\n",
       "      <td>0.1</td>\n",
       "      <td>0.5</td>\n",
       "      <td>22.6</td>\n",
       "      <td>...</td>\n",
       "      <td>1.3</td>\n",
       "      <td>68.9</td>\n",
       "      <td>1.0</td>\n",
       "      <td>0.9</td>\n",
       "      <td>1.9</td>\n",
       "      <td>0.8</td>\n",
       "      <td>0.6</td>\n",
       "      <td>0.1</td>\n",
       "      <td>1.0</td>\n",
       "      <td>1.0</td>\n",
       "    </tr>\n",
       "    <tr>\n",
       "      <th>4</th>\n",
       "      <td>Matt Geiger</td>\n",
       "      <td>48</td>\n",
       "      <td>11.5</td>\n",
       "      <td>4.5</td>\n",
       "      <td>1.6</td>\n",
       "      <td>3.0</td>\n",
       "      <td>52.4</td>\n",
       "      <td>0.0</td>\n",
       "      <td>0.1</td>\n",
       "      <td>0.0</td>\n",
       "      <td>...</td>\n",
       "      <td>1.9</td>\n",
       "      <td>67.4</td>\n",
       "      <td>1.0</td>\n",
       "      <td>1.5</td>\n",
       "      <td>2.5</td>\n",
       "      <td>0.3</td>\n",
       "      <td>0.3</td>\n",
       "      <td>0.4</td>\n",
       "      <td>0.8</td>\n",
       "      <td>1.0</td>\n",
       "    </tr>\n",
       "  </tbody>\n",
       "</table>\n",
       "<p>5 rows × 21 columns</p>\n",
       "</div>"
      ],
      "text/plain": [
       "              Name  GP   MIN  PTS  FGM  FGA   FG%  3P Made  3PA   3P%  ...  \\\n",
       "0   Brandon Ingram  36  27.4  7.4  2.6  7.6  34.7      0.5  2.1  25.0  ...   \n",
       "1  Andrew Harrison  35  26.9  7.2  2.0  6.7  29.6      0.7  2.8  23.5  ...   \n",
       "2   JaKarr Sampson  74  15.3  5.2  2.0  4.7  42.2      0.4  1.7  24.4  ...   \n",
       "3      Malik Sealy  58  11.6  5.7  2.3  5.5  42.6      0.1  0.5  22.6  ...   \n",
       "4      Matt Geiger  48  11.5  4.5  1.6  3.0  52.4      0.0  0.1   0.0  ...   \n",
       "\n",
       "   FTA   FT%  OREB  DREB  REB  AST  STL  BLK  TOV  TARGET_5Yrs  \n",
       "0  2.3  69.9   0.7   3.4  4.1  1.9  0.4  0.4  1.3          0.0  \n",
       "1  3.4  76.5   0.5   2.0  2.4  3.7  1.1  0.5  1.6          0.0  \n",
       "2  1.3  67.0   0.5   1.7  2.2  1.0  0.5  0.3  1.0          0.0  \n",
       "3  1.3  68.9   1.0   0.9  1.9  0.8  0.6  0.1  1.0          1.0  \n",
       "4  1.9  67.4   1.0   1.5  2.5  0.3  0.3  0.4  0.8          1.0  \n",
       "\n",
       "[5 rows x 21 columns]"
      ]
     },
     "execution_count": 4,
     "metadata": {},
     "output_type": "execute_result"
    }
   ],
   "source": [
    "#load the dataframe head\n",
    "df.head()"
   ]
  },
  {
   "cell_type": "code",
   "execution_count": 5,
   "metadata": {},
   "outputs": [
    {
     "name": "stdout",
     "output_type": "stream",
     "text": [
      "<class 'pandas.core.frame.DataFrame'>\n",
      "RangeIndex: 1340 entries, 0 to 1339\n",
      "Data columns (total 21 columns):\n",
      " #   Column       Non-Null Count  Dtype  \n",
      "---  ------       --------------  -----  \n",
      " 0   Name         1340 non-null   object \n",
      " 1   GP           1340 non-null   int64  \n",
      " 2   MIN          1340 non-null   float64\n",
      " 3   PTS          1340 non-null   float64\n",
      " 4   FGM          1340 non-null   float64\n",
      " 5   FGA          1340 non-null   float64\n",
      " 6   FG%          1340 non-null   float64\n",
      " 7   3P Made      1340 non-null   float64\n",
      " 8   3PA          1340 non-null   float64\n",
      " 9   3P%          1329 non-null   float64\n",
      " 10  FTM          1340 non-null   float64\n",
      " 11  FTA          1340 non-null   float64\n",
      " 12  FT%          1340 non-null   float64\n",
      " 13  OREB         1340 non-null   float64\n",
      " 14  DREB         1340 non-null   float64\n",
      " 15  REB          1340 non-null   float64\n",
      " 16  AST          1340 non-null   float64\n",
      " 17  STL          1340 non-null   float64\n",
      " 18  BLK          1340 non-null   float64\n",
      " 19  TOV          1340 non-null   float64\n",
      " 20  TARGET_5Yrs  1340 non-null   float64\n",
      "dtypes: float64(19), int64(1), object(1)\n",
      "memory usage: 220.0+ KB\n"
     ]
    }
   ],
   "source": [
    "#dataframe info\n",
    "df.info()"
   ]
  },
  {
   "cell_type": "code",
   "execution_count": 6,
   "metadata": {},
   "outputs": [
    {
     "data": {
      "image/png": "[encoded data removed]",
      "text/plain": [
       "<IPython.core.display.Image object>"
      ]
     },
     "execution_count": 6,
     "metadata": {
      "image/png": {
       "height": 100,
       "width": 300
      }
     },
     "output_type": "execute_result"
    }
   ],
   "source": [
    "#Import the description table\n",
    "Image(filename=\"table.png\",width=300,height=100)"
   ]
  },
  {
   "cell_type": "markdown",
   "metadata": {},
   "source": [
    "# Task 2: Find Insights in the data"
   ]
  },
  {
   "cell_type": "code",
   "execution_count": 7,
   "metadata": {},
   "outputs": [
    {
     "data": {
      "text/plain": [
       "TARGET_5Yrs\n",
       "1.0    831\n",
       "0.0    509\n",
       "Name: count, dtype: int64"
      ]
     },
     "execution_count": 7,
     "metadata": {},
     "output_type": "execute_result"
    }
   ],
   "source": [
    "#class imbalance\n",
    "df[\"TARGET_5Yrs\"].value_counts()"
   ]
  },
  {
   "cell_type": "code",
   "execution_count": 8,
   "metadata": {},
   "outputs": [],
   "source": [
    "# drop null values\n",
    "df=df.dropna()"
   ]
  },
  {
   "cell_type": "code",
   "execution_count": 9,
   "metadata": {},
   "outputs": [
    {
     "data": {
      "text/plain": [
       "Name           0\n",
       "GP             0\n",
       "MIN            0\n",
       "PTS            0\n",
       "FGM            0\n",
       "FGA            0\n",
       "FG%            0\n",
       "3P Made        0\n",
       "3PA            0\n",
       "3P%            0\n",
       "FTM            0\n",
       "FTA            0\n",
       "FT%            0\n",
       "OREB           0\n",
       "DREB           0\n",
       "REB            0\n",
       "AST            0\n",
       "STL            0\n",
       "BLK            0\n",
       "TOV            0\n",
       "TARGET_5Yrs    0\n",
       "dtype: int64"
      ]
     },
     "execution_count": 9,
     "metadata": {},
     "output_type": "execute_result"
    }
   ],
   "source": [
    "df.isnull().sum()"
   ]
  },
  {
   "cell_type": "code",
   "execution_count": 10,
   "metadata": {},
   "outputs": [],
   "source": [
    "#Group all the observations by (Target_5yrs)\n",
    "# Seleccionar solo las columnas numéricas\n",
    "numeric_columns = df.select_dtypes(include=['int', 'float']).columns\n",
    "\n",
    "# Calcular la media de las columnas numéricas agrupadas por \"TARGET_5Yrs\"\n",
    "Average_stats = df.groupby([\"TARGET_5Yrs\"])[numeric_columns].mean()\n"
   ]
  },
  {
   "cell_type": "code",
   "execution_count": 11,
   "metadata": {},
   "outputs": [
    {
     "data": {
      "text/html": [
       "<div>\n",
       "<style scoped>\n",
       "    .dataframe tbody tr th:only-of-type {\n",
       "        vertical-align: middle;\n",
       "    }\n",
       "\n",
       "    .dataframe tbody tr th {\n",
       "        vertical-align: top;\n",
       "    }\n",
       "\n",
       "    .dataframe thead th {\n",
       "        text-align: right;\n",
       "    }\n",
       "</style>\n",
       "<table border=\"1\" class=\"dataframe\">\n",
       "  <thead>\n",
       "    <tr style=\"text-align: right;\">\n",
       "      <th></th>\n",
       "      <th>GP</th>\n",
       "      <th>MIN</th>\n",
       "      <th>PTS</th>\n",
       "      <th>FGM</th>\n",
       "      <th>FGA</th>\n",
       "      <th>FG%</th>\n",
       "      <th>3P Made</th>\n",
       "      <th>3PA</th>\n",
       "      <th>3P%</th>\n",
       "      <th>FTM</th>\n",
       "      <th>FTA</th>\n",
       "      <th>FT%</th>\n",
       "      <th>OREB</th>\n",
       "      <th>DREB</th>\n",
       "      <th>REB</th>\n",
       "      <th>AST</th>\n",
       "      <th>STL</th>\n",
       "      <th>BLK</th>\n",
       "      <th>TOV</th>\n",
       "      <th>TARGET_5Yrs</th>\n",
       "    </tr>\n",
       "    <tr>\n",
       "      <th>TARGET_5Yrs</th>\n",
       "      <th></th>\n",
       "      <th></th>\n",
       "      <th></th>\n",
       "      <th></th>\n",
       "      <th></th>\n",
       "      <th></th>\n",
       "      <th></th>\n",
       "      <th></th>\n",
       "      <th></th>\n",
       "      <th></th>\n",
       "      <th></th>\n",
       "      <th></th>\n",
       "      <th></th>\n",
       "      <th></th>\n",
       "      <th></th>\n",
       "      <th></th>\n",
       "      <th></th>\n",
       "      <th></th>\n",
       "      <th></th>\n",
       "      <th></th>\n",
       "    </tr>\n",
       "  </thead>\n",
       "  <tbody>\n",
       "    <tr>\n",
       "      <th>0.0</th>\n",
       "      <td>51.495030</td>\n",
       "      <td>14.276740</td>\n",
       "      <td>5.060636</td>\n",
       "      <td>1.951093</td>\n",
       "      <td>4.562425</td>\n",
       "      <td>42.270775</td>\n",
       "      <td>0.232406</td>\n",
       "      <td>0.763618</td>\n",
       "      <td>19.378131</td>\n",
       "      <td>0.928231</td>\n",
       "      <td>1.324254</td>\n",
       "      <td>69.122266</td>\n",
       "      <td>0.713519</td>\n",
       "      <td>1.522863</td>\n",
       "      <td>2.234592</td>\n",
       "      <td>1.230815</td>\n",
       "      <td>0.500000</td>\n",
       "      <td>0.249901</td>\n",
       "      <td>0.944732</td>\n",
       "      <td>0.0</td>\n",
       "    </tr>\n",
       "    <tr>\n",
       "      <th>1.0</th>\n",
       "      <td>65.826877</td>\n",
       "      <td>19.700847</td>\n",
       "      <td>7.891646</td>\n",
       "      <td>3.051090</td>\n",
       "      <td>6.718523</td>\n",
       "      <td>45.242131</td>\n",
       "      <td>0.260169</td>\n",
       "      <td>0.799031</td>\n",
       "      <td>19.265496</td>\n",
       "      <td>1.530872</td>\n",
       "      <td>2.133656</td>\n",
       "      <td>71.189588</td>\n",
       "      <td>1.186683</td>\n",
       "      <td>2.325061</td>\n",
       "      <td>3.511864</td>\n",
       "      <td>1.758838</td>\n",
       "      <td>0.693705</td>\n",
       "      <td>0.436925</td>\n",
       "      <td>1.349031</td>\n",
       "      <td>1.0</td>\n",
       "    </tr>\n",
       "  </tbody>\n",
       "</table>\n",
       "</div>"
      ],
      "text/plain": [
       "                    GP        MIN       PTS       FGM       FGA        FG%  \\\n",
       "TARGET_5Yrs                                                                  \n",
       "0.0          51.495030  14.276740  5.060636  1.951093  4.562425  42.270775   \n",
       "1.0          65.826877  19.700847  7.891646  3.051090  6.718523  45.242131   \n",
       "\n",
       "              3P Made       3PA        3P%       FTM       FTA        FT%  \\\n",
       "TARGET_5Yrs                                                                 \n",
       "0.0          0.232406  0.763618  19.378131  0.928231  1.324254  69.122266   \n",
       "1.0          0.260169  0.799031  19.265496  1.530872  2.133656  71.189588   \n",
       "\n",
       "                 OREB      DREB       REB       AST       STL       BLK  \\\n",
       "TARGET_5Yrs                                                               \n",
       "0.0          0.713519  1.522863  2.234592  1.230815  0.500000  0.249901   \n",
       "1.0          1.186683  2.325061  3.511864  1.758838  0.693705  0.436925   \n",
       "\n",
       "                  TOV  TARGET_5Yrs  \n",
       "TARGET_5Yrs                         \n",
       "0.0          0.944732          0.0  \n",
       "1.0          1.349031          1.0  "
      ]
     },
     "execution_count": 11,
     "metadata": {},
     "output_type": "execute_result"
    }
   ],
   "source": [
    "#Test\n",
    "Average_stats"
   ]
  },
  {
   "cell_type": "code",
   "execution_count": 12,
   "metadata": {},
   "outputs": [],
   "source": [
    "#Transpose the data frame\n",
    "df_transposed=Average_stats.T"
   ]
  },
  {
   "cell_type": "code",
   "execution_count": 13,
   "metadata": {},
   "outputs": [
    {
     "data": {
      "text/html": [
       "<div>\n",
       "<style scoped>\n",
       "    .dataframe tbody tr th:only-of-type {\n",
       "        vertical-align: middle;\n",
       "    }\n",
       "\n",
       "    .dataframe tbody tr th {\n",
       "        vertical-align: top;\n",
       "    }\n",
       "\n",
       "    .dataframe thead th {\n",
       "        text-align: right;\n",
       "    }\n",
       "</style>\n",
       "<table border=\"1\" class=\"dataframe\">\n",
       "  <thead>\n",
       "    <tr style=\"text-align: right;\">\n",
       "      <th>TARGET_5Yrs</th>\n",
       "      <th>0.0</th>\n",
       "      <th>1.0</th>\n",
       "    </tr>\n",
       "  </thead>\n",
       "  <tbody>\n",
       "    <tr>\n",
       "      <th>GP</th>\n",
       "      <td>51.495030</td>\n",
       "      <td>65.826877</td>\n",
       "    </tr>\n",
       "    <tr>\n",
       "      <th>MIN</th>\n",
       "      <td>14.276740</td>\n",
       "      <td>19.700847</td>\n",
       "    </tr>\n",
       "    <tr>\n",
       "      <th>PTS</th>\n",
       "      <td>5.060636</td>\n",
       "      <td>7.891646</td>\n",
       "    </tr>\n",
       "    <tr>\n",
       "      <th>FGM</th>\n",
       "      <td>1.951093</td>\n",
       "      <td>3.051090</td>\n",
       "    </tr>\n",
       "    <tr>\n",
       "      <th>FGA</th>\n",
       "      <td>4.562425</td>\n",
       "      <td>6.718523</td>\n",
       "    </tr>\n",
       "    <tr>\n",
       "      <th>FG%</th>\n",
       "      <td>42.270775</td>\n",
       "      <td>45.242131</td>\n",
       "    </tr>\n",
       "    <tr>\n",
       "      <th>3P Made</th>\n",
       "      <td>0.232406</td>\n",
       "      <td>0.260169</td>\n",
       "    </tr>\n",
       "    <tr>\n",
       "      <th>3PA</th>\n",
       "      <td>0.763618</td>\n",
       "      <td>0.799031</td>\n",
       "    </tr>\n",
       "    <tr>\n",
       "      <th>3P%</th>\n",
       "      <td>19.378131</td>\n",
       "      <td>19.265496</td>\n",
       "    </tr>\n",
       "    <tr>\n",
       "      <th>FTM</th>\n",
       "      <td>0.928231</td>\n",
       "      <td>1.530872</td>\n",
       "    </tr>\n",
       "    <tr>\n",
       "      <th>FTA</th>\n",
       "      <td>1.324254</td>\n",
       "      <td>2.133656</td>\n",
       "    </tr>\n",
       "    <tr>\n",
       "      <th>FT%</th>\n",
       "      <td>69.122266</td>\n",
       "      <td>71.189588</td>\n",
       "    </tr>\n",
       "    <tr>\n",
       "      <th>OREB</th>\n",
       "      <td>0.713519</td>\n",
       "      <td>1.186683</td>\n",
       "    </tr>\n",
       "    <tr>\n",
       "      <th>DREB</th>\n",
       "      <td>1.522863</td>\n",
       "      <td>2.325061</td>\n",
       "    </tr>\n",
       "    <tr>\n",
       "      <th>REB</th>\n",
       "      <td>2.234592</td>\n",
       "      <td>3.511864</td>\n",
       "    </tr>\n",
       "    <tr>\n",
       "      <th>AST</th>\n",
       "      <td>1.230815</td>\n",
       "      <td>1.758838</td>\n",
       "    </tr>\n",
       "    <tr>\n",
       "      <th>STL</th>\n",
       "      <td>0.500000</td>\n",
       "      <td>0.693705</td>\n",
       "    </tr>\n",
       "    <tr>\n",
       "      <th>BLK</th>\n",
       "      <td>0.249901</td>\n",
       "      <td>0.436925</td>\n",
       "    </tr>\n",
       "    <tr>\n",
       "      <th>TOV</th>\n",
       "      <td>0.944732</td>\n",
       "      <td>1.349031</td>\n",
       "    </tr>\n",
       "    <tr>\n",
       "      <th>TARGET_5Yrs</th>\n",
       "      <td>0.000000</td>\n",
       "      <td>1.000000</td>\n",
       "    </tr>\n",
       "  </tbody>\n",
       "</table>\n",
       "</div>"
      ],
      "text/plain": [
       "TARGET_5Yrs        0.0        1.0\n",
       "GP           51.495030  65.826877\n",
       "MIN          14.276740  19.700847\n",
       "PTS           5.060636   7.891646\n",
       "FGM           1.951093   3.051090\n",
       "FGA           4.562425   6.718523\n",
       "FG%          42.270775  45.242131\n",
       "3P Made       0.232406   0.260169\n",
       "3PA           0.763618   0.799031\n",
       "3P%          19.378131  19.265496\n",
       "FTM           0.928231   1.530872\n",
       "FTA           1.324254   2.133656\n",
       "FT%          69.122266  71.189588\n",
       "OREB          0.713519   1.186683\n",
       "DREB          1.522863   2.325061\n",
       "REB           2.234592   3.511864\n",
       "AST           1.230815   1.758838\n",
       "STL           0.500000   0.693705\n",
       "BLK           0.249901   0.436925\n",
       "TOV           0.944732   1.349031\n",
       "TARGET_5Yrs   0.000000   1.000000"
      ]
     },
     "execution_count": 13,
     "metadata": {},
     "output_type": "execute_result"
    }
   ],
   "source": [
    "#Test\n",
    "df_transposed"
   ]
  },
  {
   "cell_type": "code",
   "execution_count": 14,
   "metadata": {},
   "outputs": [
    {
     "data": {
      "text/plain": [
       "Text(0.5, 1.0, ' features values by label')"
      ]
     },
     "execution_count": 14,
     "metadata": {},
     "output_type": "execute_result"
    },
    {
     "data": {
      "text/plain": [
       "<Figure size 1200x1000 with 0 Axes>"
      ]
     },
     "metadata": {},
     "output_type": "display_data"
    },
    {
     "data": {
      "image/png": "[encoded data removed]",
      "text/plain": [
       "<Figure size 800x550 with 1 Axes>"
      ]
     },
     "metadata": {},
     "output_type": "display_data"
    }
   ],
   "source": [
    "#Visualize the data for insights\n",
    "# Importar seaborn y establecer el estilo\n",
    "sns.set_style(\"whitegrid\")\n",
    "\n",
    "# Luego, puedes continuar con el resto de tu código\n",
    "table = df_transposed\n",
    "plt.figure(figsize=(12, 10))\n",
    "a = table.plot(stacked=True, kind=\"barh\", alpha=0.7)\n",
    "\n",
    "#Decorating the plot\n",
    "plt.legend(bbox_to_anchor=(1.05, 1), loc='upper left',prop={'size': 14})\n",
    "plt.xlabel('Value',fontsize=16)\n",
    "plt.ylabel('Feature',fontsize=16)\n",
    "plt.xticks(fontsize=12)\n",
    "plt.yticks(fontsize=12)\n",
    "plt.title(' features values by label',fontsize=15,weight='bold')"
   ]
  },
  {
   "cell_type": "markdown",
   "metadata": {},
   "source": [
    "# Task 3: Features reduction based on correlation"
   ]
  },
  {
   "cell_type": "code",
   "execution_count": 15,
   "metadata": {},
   "outputs": [],
   "source": [
    "# Labels and features split\n",
    "X=df.iloc[:,1:-1]\n",
    "Y=df.iloc[:,-1]"
   ]
  },
  {
   "cell_type": "code",
   "execution_count": 16,
   "metadata": {},
   "outputs": [
    {
     "data": {
      "text/plain": [
       "0    0.0\n",
       "1    0.0\n",
       "2    0.0\n",
       "3    1.0\n",
       "4    1.0\n",
       "Name: TARGET_5Yrs, dtype: float64"
      ]
     },
     "execution_count": 16,
     "metadata": {},
     "output_type": "execute_result"
    }
   ],
   "source": [
    "Y.head()"
   ]
  },
  {
   "cell_type": "code",
   "execution_count": 17,
   "metadata": {},
   "outputs": [
    {
     "data": {
      "image/png": "[encoded data removed]",
      "text/plain": [
       "<Figure size 1600x1200 with 2 Axes>"
      ]
     },
     "metadata": {},
     "output_type": "display_data"
    }
   ],
   "source": [
    "\n",
    "# Visualiza la matriz de correlación con seaborn\n",
    "plt.figure(figsize=(16, 12))\n",
    "sns.heatmap(X.corr(), annot=True, fmt=\".1f\", linewidths=5)\n",
    "plt.title('Matriz de correlación')\n",
    "plt.show()"
   ]
  },
  {
   "cell_type": "code",
   "execution_count": 18,
   "metadata": {},
   "outputs": [
    {
     "data": {
      "text/html": [
       "<div>\n",
       "<style scoped>\n",
       "    .dataframe tbody tr th:only-of-type {\n",
       "        vertical-align: middle;\n",
       "    }\n",
       "\n",
       "    .dataframe tbody tr th {\n",
       "        vertical-align: top;\n",
       "    }\n",
       "\n",
       "    .dataframe thead th {\n",
       "        text-align: right;\n",
       "    }\n",
       "</style>\n",
       "<table border=\"1\" class=\"dataframe\">\n",
       "  <thead>\n",
       "    <tr style=\"text-align: right;\">\n",
       "      <th></th>\n",
       "      <th>GP</th>\n",
       "      <th>MIN</th>\n",
       "      <th>PTS</th>\n",
       "      <th>FGM</th>\n",
       "      <th>FGA</th>\n",
       "      <th>FG%</th>\n",
       "      <th>3P Made</th>\n",
       "      <th>3PA</th>\n",
       "      <th>3P%</th>\n",
       "      <th>FTM</th>\n",
       "      <th>FTA</th>\n",
       "      <th>FT%</th>\n",
       "      <th>OREB</th>\n",
       "      <th>DREB</th>\n",
       "      <th>REB</th>\n",
       "      <th>AST</th>\n",
       "      <th>STL</th>\n",
       "      <th>BLK</th>\n",
       "      <th>TOV</th>\n",
       "    </tr>\n",
       "  </thead>\n",
       "  <tbody>\n",
       "    <tr>\n",
       "      <th>GP</th>\n",
       "      <td>1.000000</td>\n",
       "      <td>0.590596</td>\n",
       "      <td>0.539069</td>\n",
       "      <td>0.543000</td>\n",
       "      <td>0.517395</td>\n",
       "      <td>0.296987</td>\n",
       "      <td>0.108195</td>\n",
       "      <td>0.099626</td>\n",
       "      <td>0.038209</td>\n",
       "      <td>0.483185</td>\n",
       "      <td>0.480136</td>\n",
       "      <td>0.197743</td>\n",
       "      <td>0.400184</td>\n",
       "      <td>0.467467</td>\n",
       "      <td>0.460390</td>\n",
       "      <td>0.374311</td>\n",
       "      <td>0.452726</td>\n",
       "      <td>0.276700</td>\n",
       "      <td>0.518693</td>\n",
       "    </tr>\n",
       "    <tr>\n",
       "      <th>MIN</th>\n",
       "      <td>0.590596</td>\n",
       "      <td>1.000000</td>\n",
       "      <td>0.911746</td>\n",
       "      <td>0.902864</td>\n",
       "      <td>0.910194</td>\n",
       "      <td>0.208341</td>\n",
       "      <td>0.389474</td>\n",
       "      <td>0.402814</td>\n",
       "      <td>0.165997</td>\n",
       "      <td>0.791089</td>\n",
       "      <td>0.779813</td>\n",
       "      <td>0.236160</td>\n",
       "      <td>0.573655</td>\n",
       "      <td>0.747065</td>\n",
       "      <td>0.710853</td>\n",
       "      <td>0.629147</td>\n",
       "      <td>0.757050</td>\n",
       "      <td>0.401011</td>\n",
       "      <td>0.826431</td>\n",
       "    </tr>\n",
       "    <tr>\n",
       "      <th>PTS</th>\n",
       "      <td>0.539069</td>\n",
       "      <td>0.911746</td>\n",
       "      <td>1.000000</td>\n",
       "      <td>0.990874</td>\n",
       "      <td>0.979676</td>\n",
       "      <td>0.261587</td>\n",
       "      <td>0.345289</td>\n",
       "      <td>0.355198</td>\n",
       "      <td>0.151072</td>\n",
       "      <td>0.896245</td>\n",
       "      <td>0.880826</td>\n",
       "      <td>0.254404</td>\n",
       "      <td>0.576421</td>\n",
       "      <td>0.696560</td>\n",
       "      <td>0.679002</td>\n",
       "      <td>0.551561</td>\n",
       "      <td>0.674937</td>\n",
       "      <td>0.390496</td>\n",
       "      <td>0.850272</td>\n",
       "    </tr>\n",
       "    <tr>\n",
       "      <th>FGM</th>\n",
       "      <td>0.543000</td>\n",
       "      <td>0.902864</td>\n",
       "      <td>0.990874</td>\n",
       "      <td>1.000000</td>\n",
       "      <td>0.980117</td>\n",
       "      <td>0.297113</td>\n",
       "      <td>0.287956</td>\n",
       "      <td>0.297898</td>\n",
       "      <td>0.119493</td>\n",
       "      <td>0.848146</td>\n",
       "      <td>0.840667</td>\n",
       "      <td>0.219423</td>\n",
       "      <td>0.597468</td>\n",
       "      <td>0.705191</td>\n",
       "      <td>0.692678</td>\n",
       "      <td>0.532261</td>\n",
       "      <td>0.662457</td>\n",
       "      <td>0.400744</td>\n",
       "      <td>0.834343</td>\n",
       "    </tr>\n",
       "    <tr>\n",
       "      <th>FGA</th>\n",
       "      <td>0.517395</td>\n",
       "      <td>0.910194</td>\n",
       "      <td>0.979676</td>\n",
       "      <td>0.980117</td>\n",
       "      <td>1.000000</td>\n",
       "      <td>0.135815</td>\n",
       "      <td>0.388860</td>\n",
       "      <td>0.412053</td>\n",
       "      <td>0.197160</td>\n",
       "      <td>0.826244</td>\n",
       "      <td>0.805507</td>\n",
       "      <td>0.264405</td>\n",
       "      <td>0.505547</td>\n",
       "      <td>0.642752</td>\n",
       "      <td>0.616497</td>\n",
       "      <td>0.589038</td>\n",
       "      <td>0.689771</td>\n",
       "      <td>0.325503</td>\n",
       "      <td>0.845952</td>\n",
       "    </tr>\n",
       "    <tr>\n",
       "      <th>FG%</th>\n",
       "      <td>0.296987</td>\n",
       "      <td>0.208341</td>\n",
       "      <td>0.261587</td>\n",
       "      <td>0.297113</td>\n",
       "      <td>0.135815</td>\n",
       "      <td>1.000000</td>\n",
       "      <td>-0.291573</td>\n",
       "      <td>-0.347680</td>\n",
       "      <td>-0.330690</td>\n",
       "      <td>0.253381</td>\n",
       "      <td>0.306360</td>\n",
       "      <td>-0.150996</td>\n",
       "      <td>0.512346</td>\n",
       "      <td>0.411103</td>\n",
       "      <td>0.466126</td>\n",
       "      <td>-0.103546</td>\n",
       "      <td>0.061130</td>\n",
       "      <td>0.390786</td>\n",
       "      <td>0.126429</td>\n",
       "    </tr>\n",
       "    <tr>\n",
       "      <th>3P Made</th>\n",
       "      <td>0.108195</td>\n",
       "      <td>0.389474</td>\n",
       "      <td>0.345289</td>\n",
       "      <td>0.287956</td>\n",
       "      <td>0.388860</td>\n",
       "      <td>-0.291573</td>\n",
       "      <td>1.000000</td>\n",
       "      <td>0.982579</td>\n",
       "      <td>0.589855</td>\n",
       "      <td>0.155717</td>\n",
       "      <td>0.093059</td>\n",
       "      <td>0.312256</td>\n",
       "      <td>-0.218210</td>\n",
       "      <td>0.018688</td>\n",
       "      <td>-0.070865</td>\n",
       "      <td>0.374314</td>\n",
       "      <td>0.305146</td>\n",
       "      <td>-0.155955</td>\n",
       "      <td>0.257015</td>\n",
       "    </tr>\n",
       "    <tr>\n",
       "      <th>3PA</th>\n",
       "      <td>0.099626</td>\n",
       "      <td>0.402814</td>\n",
       "      <td>0.355198</td>\n",
       "      <td>0.297898</td>\n",
       "      <td>0.412053</td>\n",
       "      <td>-0.347680</td>\n",
       "      <td>0.982579</td>\n",
       "      <td>1.000000</td>\n",
       "      <td>0.582337</td>\n",
       "      <td>0.170463</td>\n",
       "      <td>0.105784</td>\n",
       "      <td>0.320901</td>\n",
       "      <td>-0.231050</td>\n",
       "      <td>0.013611</td>\n",
       "      <td>-0.079111</td>\n",
       "      <td>0.408066</td>\n",
       "      <td>0.336757</td>\n",
       "      <td>-0.169245</td>\n",
       "      <td>0.282496</td>\n",
       "    </tr>\n",
       "    <tr>\n",
       "      <th>3P%</th>\n",
       "      <td>0.038209</td>\n",
       "      <td>0.165997</td>\n",
       "      <td>0.151072</td>\n",
       "      <td>0.119493</td>\n",
       "      <td>0.197160</td>\n",
       "      <td>-0.330690</td>\n",
       "      <td>0.589855</td>\n",
       "      <td>0.582337</td>\n",
       "      <td>1.000000</td>\n",
       "      <td>0.030320</td>\n",
       "      <td>-0.032333</td>\n",
       "      <td>0.326372</td>\n",
       "      <td>-0.288759</td>\n",
       "      <td>-0.122949</td>\n",
       "      <td>-0.191071</td>\n",
       "      <td>0.262120</td>\n",
       "      <td>0.194329</td>\n",
       "      <td>-0.242274</td>\n",
       "      <td>0.108277</td>\n",
       "    </tr>\n",
       "    <tr>\n",
       "      <th>FTM</th>\n",
       "      <td>0.483185</td>\n",
       "      <td>0.791089</td>\n",
       "      <td>0.896245</td>\n",
       "      <td>0.848146</td>\n",
       "      <td>0.826244</td>\n",
       "      <td>0.253381</td>\n",
       "      <td>0.155717</td>\n",
       "      <td>0.170463</td>\n",
       "      <td>0.030320</td>\n",
       "      <td>1.000000</td>\n",
       "      <td>0.980626</td>\n",
       "      <td>0.253125</td>\n",
       "      <td>0.586325</td>\n",
       "      <td>0.657652</td>\n",
       "      <td>0.657194</td>\n",
       "      <td>0.474403</td>\n",
       "      <td>0.599534</td>\n",
       "      <td>0.412565</td>\n",
       "      <td>0.804762</td>\n",
       "    </tr>\n",
       "    <tr>\n",
       "      <th>FTA</th>\n",
       "      <td>0.480136</td>\n",
       "      <td>0.779813</td>\n",
       "      <td>0.880826</td>\n",
       "      <td>0.840667</td>\n",
       "      <td>0.805507</td>\n",
       "      <td>0.306360</td>\n",
       "      <td>0.093059</td>\n",
       "      <td>0.105784</td>\n",
       "      <td>-0.032333</td>\n",
       "      <td>0.980626</td>\n",
       "      <td>1.000000</td>\n",
       "      <td>0.110846</td>\n",
       "      <td>0.655408</td>\n",
       "      <td>0.704195</td>\n",
       "      <td>0.714267</td>\n",
       "      <td>0.427141</td>\n",
       "      <td>0.579737</td>\n",
       "      <td>0.473501</td>\n",
       "      <td>0.798856</td>\n",
       "    </tr>\n",
       "    <tr>\n",
       "      <th>FT%</th>\n",
       "      <td>0.197743</td>\n",
       "      <td>0.236160</td>\n",
       "      <td>0.254404</td>\n",
       "      <td>0.219423</td>\n",
       "      <td>0.264405</td>\n",
       "      <td>-0.150996</td>\n",
       "      <td>0.312256</td>\n",
       "      <td>0.320901</td>\n",
       "      <td>0.326372</td>\n",
       "      <td>0.253125</td>\n",
       "      <td>0.110846</td>\n",
       "      <td>1.000000</td>\n",
       "      <td>-0.147512</td>\n",
       "      <td>-0.021901</td>\n",
       "      <td>-0.070799</td>\n",
       "      <td>0.292877</td>\n",
       "      <td>0.202791</td>\n",
       "      <td>-0.160008</td>\n",
       "      <td>0.195242</td>\n",
       "    </tr>\n",
       "    <tr>\n",
       "      <th>OREB</th>\n",
       "      <td>0.400184</td>\n",
       "      <td>0.573655</td>\n",
       "      <td>0.576421</td>\n",
       "      <td>0.597468</td>\n",
       "      <td>0.505547</td>\n",
       "      <td>0.512346</td>\n",
       "      <td>-0.218210</td>\n",
       "      <td>-0.231050</td>\n",
       "      <td>-0.288759</td>\n",
       "      <td>0.586325</td>\n",
       "      <td>0.655408</td>\n",
       "      <td>-0.147512</td>\n",
       "      <td>1.000000</td>\n",
       "      <td>0.838904</td>\n",
       "      <td>0.932874</td>\n",
       "      <td>-0.010736</td>\n",
       "      <td>0.287982</td>\n",
       "      <td>0.649201</td>\n",
       "      <td>0.422708</td>\n",
       "    </tr>\n",
       "    <tr>\n",
       "      <th>DREB</th>\n",
       "      <td>0.467467</td>\n",
       "      <td>0.747065</td>\n",
       "      <td>0.696560</td>\n",
       "      <td>0.705191</td>\n",
       "      <td>0.642752</td>\n",
       "      <td>0.411103</td>\n",
       "      <td>0.018688</td>\n",
       "      <td>0.013611</td>\n",
       "      <td>-0.122949</td>\n",
       "      <td>0.657652</td>\n",
       "      <td>0.704195</td>\n",
       "      <td>-0.021901</td>\n",
       "      <td>0.838904</td>\n",
       "      <td>1.000000</td>\n",
       "      <td>0.978199</td>\n",
       "      <td>0.189380</td>\n",
       "      <td>0.413893</td>\n",
       "      <td>0.687627</td>\n",
       "      <td>0.572049</td>\n",
       "    </tr>\n",
       "    <tr>\n",
       "      <th>REB</th>\n",
       "      <td>0.460390</td>\n",
       "      <td>0.710853</td>\n",
       "      <td>0.679002</td>\n",
       "      <td>0.692678</td>\n",
       "      <td>0.616497</td>\n",
       "      <td>0.466126</td>\n",
       "      <td>-0.070865</td>\n",
       "      <td>-0.079111</td>\n",
       "      <td>-0.191071</td>\n",
       "      <td>0.657194</td>\n",
       "      <td>0.714267</td>\n",
       "      <td>-0.070799</td>\n",
       "      <td>0.932874</td>\n",
       "      <td>0.978199</td>\n",
       "      <td>1.000000</td>\n",
       "      <td>0.121302</td>\n",
       "      <td>0.382942</td>\n",
       "      <td>0.699615</td>\n",
       "      <td>0.538216</td>\n",
       "    </tr>\n",
       "    <tr>\n",
       "      <th>AST</th>\n",
       "      <td>0.374311</td>\n",
       "      <td>0.629147</td>\n",
       "      <td>0.551561</td>\n",
       "      <td>0.532261</td>\n",
       "      <td>0.589038</td>\n",
       "      <td>-0.103546</td>\n",
       "      <td>0.374314</td>\n",
       "      <td>0.408066</td>\n",
       "      <td>0.262120</td>\n",
       "      <td>0.474403</td>\n",
       "      <td>0.427141</td>\n",
       "      <td>0.292877</td>\n",
       "      <td>-0.010736</td>\n",
       "      <td>0.189380</td>\n",
       "      <td>0.121302</td>\n",
       "      <td>1.000000</td>\n",
       "      <td>0.751109</td>\n",
       "      <td>-0.083851</td>\n",
       "      <td>0.747442</td>\n",
       "    </tr>\n",
       "    <tr>\n",
       "      <th>STL</th>\n",
       "      <td>0.452726</td>\n",
       "      <td>0.757050</td>\n",
       "      <td>0.674937</td>\n",
       "      <td>0.662457</td>\n",
       "      <td>0.689771</td>\n",
       "      <td>0.061130</td>\n",
       "      <td>0.305146</td>\n",
       "      <td>0.336757</td>\n",
       "      <td>0.194329</td>\n",
       "      <td>0.599534</td>\n",
       "      <td>0.579737</td>\n",
       "      <td>0.202791</td>\n",
       "      <td>0.287982</td>\n",
       "      <td>0.413893</td>\n",
       "      <td>0.382942</td>\n",
       "      <td>0.751109</td>\n",
       "      <td>1.000000</td>\n",
       "      <td>0.136144</td>\n",
       "      <td>0.742301</td>\n",
       "    </tr>\n",
       "    <tr>\n",
       "      <th>BLK</th>\n",
       "      <td>0.276700</td>\n",
       "      <td>0.401011</td>\n",
       "      <td>0.390496</td>\n",
       "      <td>0.400744</td>\n",
       "      <td>0.325503</td>\n",
       "      <td>0.390786</td>\n",
       "      <td>-0.155955</td>\n",
       "      <td>-0.169245</td>\n",
       "      <td>-0.242274</td>\n",
       "      <td>0.412565</td>\n",
       "      <td>0.473501</td>\n",
       "      <td>-0.160008</td>\n",
       "      <td>0.649201</td>\n",
       "      <td>0.687627</td>\n",
       "      <td>0.699615</td>\n",
       "      <td>-0.083851</td>\n",
       "      <td>0.136144</td>\n",
       "      <td>1.000000</td>\n",
       "      <td>0.284679</td>\n",
       "    </tr>\n",
       "    <tr>\n",
       "      <th>TOV</th>\n",
       "      <td>0.518693</td>\n",
       "      <td>0.826431</td>\n",
       "      <td>0.850272</td>\n",
       "      <td>0.834343</td>\n",
       "      <td>0.845952</td>\n",
       "      <td>0.126429</td>\n",
       "      <td>0.257015</td>\n",
       "      <td>0.282496</td>\n",
       "      <td>0.108277</td>\n",
       "      <td>0.804762</td>\n",
       "      <td>0.798856</td>\n",
       "      <td>0.195242</td>\n",
       "      <td>0.422708</td>\n",
       "      <td>0.572049</td>\n",
       "      <td>0.538216</td>\n",
       "      <td>0.747442</td>\n",
       "      <td>0.742301</td>\n",
       "      <td>0.284679</td>\n",
       "      <td>1.000000</td>\n",
       "    </tr>\n",
       "  </tbody>\n",
       "</table>\n",
       "</div>"
      ],
      "text/plain": [
       "               GP       MIN       PTS       FGM       FGA       FG%   3P Made  \\\n",
       "GP       1.000000  0.590596  0.539069  0.543000  0.517395  0.296987  0.108195   \n",
       "MIN      0.590596  1.000000  0.911746  0.902864  0.910194  0.208341  0.389474   \n",
       "PTS      0.539069  0.911746  1.000000  0.990874  0.979676  0.261587  0.345289   \n",
       "FGM      0.543000  0.902864  0.990874  1.000000  0.980117  0.297113  0.287956   \n",
       "FGA      0.517395  0.910194  0.979676  0.980117  1.000000  0.135815  0.388860   \n",
       "FG%      0.296987  0.208341  0.261587  0.297113  0.135815  1.000000 -0.291573   \n",
       "3P Made  0.108195  0.389474  0.345289  0.287956  0.388860 -0.291573  1.000000   \n",
       "3PA      0.099626  0.402814  0.355198  0.297898  0.412053 -0.347680  0.982579   \n",
       "3P%      0.038209  0.165997  0.151072  0.119493  0.197160 -0.330690  0.589855   \n",
       "FTM      0.483185  0.791089  0.896245  0.848146  0.826244  0.253381  0.155717   \n",
       "FTA      0.480136  0.779813  0.880826  0.840667  0.805507  0.306360  0.093059   \n",
       "FT%      0.197743  0.236160  0.254404  0.219423  0.264405 -0.150996  0.312256   \n",
       "OREB     0.400184  0.573655  0.576421  0.597468  0.505547  0.512346 -0.218210   \n",
       "DREB     0.467467  0.747065  0.696560  0.705191  0.642752  0.411103  0.018688   \n",
       "REB      0.460390  0.710853  0.679002  0.692678  0.616497  0.466126 -0.070865   \n",
       "AST      0.374311  0.629147  0.551561  0.532261  0.589038 -0.103546  0.374314   \n",
       "STL      0.452726  0.757050  0.674937  0.662457  0.689771  0.061130  0.305146   \n",
       "BLK      0.276700  0.401011  0.390496  0.400744  0.325503  0.390786 -0.155955   \n",
       "TOV      0.518693  0.826431  0.850272  0.834343  0.845952  0.126429  0.257015   \n",
       "\n",
       "              3PA       3P%       FTM       FTA       FT%      OREB      DREB  \\\n",
       "GP       0.099626  0.038209  0.483185  0.480136  0.197743  0.400184  0.467467   \n",
       "MIN      0.402814  0.165997  0.791089  0.779813  0.236160  0.573655  0.747065   \n",
       "PTS      0.355198  0.151072  0.896245  0.880826  0.254404  0.576421  0.696560   \n",
       "FGM      0.297898  0.119493  0.848146  0.840667  0.219423  0.597468  0.705191   \n",
       "FGA      0.412053  0.197160  0.826244  0.805507  0.264405  0.505547  0.642752   \n",
       "FG%     -0.347680 -0.330690  0.253381  0.306360 -0.150996  0.512346  0.411103   \n",
       "3P Made  0.982579  0.589855  0.155717  0.093059  0.312256 -0.218210  0.018688   \n",
       "3PA      1.000000  0.582337  0.170463  0.105784  0.320901 -0.231050  0.013611   \n",
       "3P%      0.582337  1.000000  0.030320 -0.032333  0.326372 -0.288759 -0.122949   \n",
       "FTM      0.170463  0.030320  1.000000  0.980626  0.253125  0.586325  0.657652   \n",
       "FTA      0.105784 -0.032333  0.980626  1.000000  0.110846  0.655408  0.704195   \n",
       "FT%      0.320901  0.326372  0.253125  0.110846  1.000000 -0.147512 -0.021901   \n",
       "OREB    -0.231050 -0.288759  0.586325  0.655408 -0.147512  1.000000  0.838904   \n",
       "DREB     0.013611 -0.122949  0.657652  0.704195 -0.021901  0.838904  1.000000   \n",
       "REB     -0.079111 -0.191071  0.657194  0.714267 -0.070799  0.932874  0.978199   \n",
       "AST      0.408066  0.262120  0.474403  0.427141  0.292877 -0.010736  0.189380   \n",
       "STL      0.336757  0.194329  0.599534  0.579737  0.202791  0.287982  0.413893   \n",
       "BLK     -0.169245 -0.242274  0.412565  0.473501 -0.160008  0.649201  0.687627   \n",
       "TOV      0.282496  0.108277  0.804762  0.798856  0.195242  0.422708  0.572049   \n",
       "\n",
       "              REB       AST       STL       BLK       TOV  \n",
       "GP       0.460390  0.374311  0.452726  0.276700  0.518693  \n",
       "MIN      0.710853  0.629147  0.757050  0.401011  0.826431  \n",
       "PTS      0.679002  0.551561  0.674937  0.390496  0.850272  \n",
       "FGM      0.692678  0.532261  0.662457  0.400744  0.834343  \n",
       "FGA      0.616497  0.589038  0.689771  0.325503  0.845952  \n",
       "FG%      0.466126 -0.103546  0.061130  0.390786  0.126429  \n",
       "3P Made -0.070865  0.374314  0.305146 -0.155955  0.257015  \n",
       "3PA     -0.079111  0.408066  0.336757 -0.169245  0.282496  \n",
       "3P%     -0.191071  0.262120  0.194329 -0.242274  0.108277  \n",
       "FTM      0.657194  0.474403  0.599534  0.412565  0.804762  \n",
       "FTA      0.714267  0.427141  0.579737  0.473501  0.798856  \n",
       "FT%     -0.070799  0.292877  0.202791 -0.160008  0.195242  \n",
       "OREB     0.932874 -0.010736  0.287982  0.649201  0.422708  \n",
       "DREB     0.978199  0.189380  0.413893  0.687627  0.572049  \n",
       "REB      1.000000  0.121302  0.382942  0.699615  0.538216  \n",
       "AST      0.121302  1.000000  0.751109 -0.083851  0.747442  \n",
       "STL      0.382942  0.751109  1.000000  0.136144  0.742301  \n",
       "BLK      0.699615 -0.083851  0.136144  1.000000  0.284679  \n",
       "TOV      0.538216  0.747442  0.742301  0.284679  1.000000  "
      ]
     },
     "execution_count": 18,
     "metadata": {},
     "output_type": "execute_result"
    }
   ],
   "source": [
    "X.corr()"
   ]
  },
  {
   "cell_type": "code",
   "execution_count": 19,
   "metadata": {},
   "outputs": [],
   "source": [
    "#Drop correlated features\n",
    "X=X.drop([\"FGA\",\"FGM\",\"3PA\",\"FTM\",\"DREB\"],axis=1)"
   ]
  },
  {
   "cell_type": "code",
   "execution_count": 20,
   "metadata": {},
   "outputs": [
    {
     "data": {
      "text/html": [
       "<div>\n",
       "<style scoped>\n",
       "    .dataframe tbody tr th:only-of-type {\n",
       "        vertical-align: middle;\n",
       "    }\n",
       "\n",
       "    .dataframe tbody tr th {\n",
       "        vertical-align: top;\n",
       "    }\n",
       "\n",
       "    .dataframe thead th {\n",
       "        text-align: right;\n",
       "    }\n",
       "</style>\n",
       "<table border=\"1\" class=\"dataframe\">\n",
       "  <thead>\n",
       "    <tr style=\"text-align: right;\">\n",
       "      <th></th>\n",
       "      <th>GP</th>\n",
       "      <th>MIN</th>\n",
       "      <th>PTS</th>\n",
       "      <th>FG%</th>\n",
       "      <th>3P Made</th>\n",
       "      <th>3P%</th>\n",
       "      <th>FTA</th>\n",
       "      <th>FT%</th>\n",
       "      <th>OREB</th>\n",
       "      <th>REB</th>\n",
       "      <th>AST</th>\n",
       "      <th>STL</th>\n",
       "      <th>BLK</th>\n",
       "      <th>TOV</th>\n",
       "    </tr>\n",
       "  </thead>\n",
       "  <tbody>\n",
       "    <tr>\n",
       "      <th>0</th>\n",
       "      <td>36</td>\n",
       "      <td>27.4</td>\n",
       "      <td>7.4</td>\n",
       "      <td>34.7</td>\n",
       "      <td>0.5</td>\n",
       "      <td>25.0</td>\n",
       "      <td>2.3</td>\n",
       "      <td>69.9</td>\n",
       "      <td>0.7</td>\n",
       "      <td>4.1</td>\n",
       "      <td>1.9</td>\n",
       "      <td>0.4</td>\n",
       "      <td>0.4</td>\n",
       "      <td>1.3</td>\n",
       "    </tr>\n",
       "    <tr>\n",
       "      <th>1</th>\n",
       "      <td>35</td>\n",
       "      <td>26.9</td>\n",
       "      <td>7.2</td>\n",
       "      <td>29.6</td>\n",
       "      <td>0.7</td>\n",
       "      <td>23.5</td>\n",
       "      <td>3.4</td>\n",
       "      <td>76.5</td>\n",
       "      <td>0.5</td>\n",
       "      <td>2.4</td>\n",
       "      <td>3.7</td>\n",
       "      <td>1.1</td>\n",
       "      <td>0.5</td>\n",
       "      <td>1.6</td>\n",
       "    </tr>\n",
       "    <tr>\n",
       "      <th>2</th>\n",
       "      <td>74</td>\n",
       "      <td>15.3</td>\n",
       "      <td>5.2</td>\n",
       "      <td>42.2</td>\n",
       "      <td>0.4</td>\n",
       "      <td>24.4</td>\n",
       "      <td>1.3</td>\n",
       "      <td>67.0</td>\n",
       "      <td>0.5</td>\n",
       "      <td>2.2</td>\n",
       "      <td>1.0</td>\n",
       "      <td>0.5</td>\n",
       "      <td>0.3</td>\n",
       "      <td>1.0</td>\n",
       "    </tr>\n",
       "    <tr>\n",
       "      <th>3</th>\n",
       "      <td>58</td>\n",
       "      <td>11.6</td>\n",
       "      <td>5.7</td>\n",
       "      <td>42.6</td>\n",
       "      <td>0.1</td>\n",
       "      <td>22.6</td>\n",
       "      <td>1.3</td>\n",
       "      <td>68.9</td>\n",
       "      <td>1.0</td>\n",
       "      <td>1.9</td>\n",
       "      <td>0.8</td>\n",
       "      <td>0.6</td>\n",
       "      <td>0.1</td>\n",
       "      <td>1.0</td>\n",
       "    </tr>\n",
       "    <tr>\n",
       "      <th>4</th>\n",
       "      <td>48</td>\n",
       "      <td>11.5</td>\n",
       "      <td>4.5</td>\n",
       "      <td>52.4</td>\n",
       "      <td>0.0</td>\n",
       "      <td>0.0</td>\n",
       "      <td>1.9</td>\n",
       "      <td>67.4</td>\n",
       "      <td>1.0</td>\n",
       "      <td>2.5</td>\n",
       "      <td>0.3</td>\n",
       "      <td>0.3</td>\n",
       "      <td>0.4</td>\n",
       "      <td>0.8</td>\n",
       "    </tr>\n",
       "  </tbody>\n",
       "</table>\n",
       "</div>"
      ],
      "text/plain": [
       "   GP   MIN  PTS   FG%  3P Made   3P%  FTA   FT%  OREB  REB  AST  STL  BLK  \\\n",
       "0  36  27.4  7.4  34.7      0.5  25.0  2.3  69.9   0.7  4.1  1.9  0.4  0.4   \n",
       "1  35  26.9  7.2  29.6      0.7  23.5  3.4  76.5   0.5  2.4  3.7  1.1  0.5   \n",
       "2  74  15.3  5.2  42.2      0.4  24.4  1.3  67.0   0.5  2.2  1.0  0.5  0.3   \n",
       "3  58  11.6  5.7  42.6      0.1  22.6  1.3  68.9   1.0  1.9  0.8  0.6  0.1   \n",
       "4  48  11.5  4.5  52.4      0.0   0.0  1.9  67.4   1.0  2.5  0.3  0.3  0.4   \n",
       "\n",
       "   TOV  \n",
       "0  1.3  \n",
       "1  1.6  \n",
       "2  1.0  \n",
       "3  1.0  \n",
       "4  0.8  "
      ]
     },
     "execution_count": 20,
     "metadata": {},
     "output_type": "execute_result"
    }
   ],
   "source": [
    " # Test\n",
    "X.head()"
   ]
  },
  {
   "cell_type": "markdown",
   "metadata": {},
   "source": [
    "# Task 4:Logistic regression classification\n",
    "\n",
    "The discrimination threshold is the probability or score at which the positive class is chosen over the negative class. Generally, this is set to 50% but the threshold can be adjusted to increase or decrease the sensitivity to false positives or to other application factors.\n"
   ]
  },
  {
   "cell_type": "code",
   "execution_count": 21,
   "metadata": {},
   "outputs": [],
   "source": [
    "#Train and Test split\n",
    "X_train,X_test,y_train,y_test=train_test_split(X,Y,stratify=Y,random_state=42)"
   ]
  },
  {
   "cell_type": "code",
   "execution_count": 22,
   "metadata": {},
   "outputs": [
    {
     "data": {
      "image/png": "[encoded data removed]",
      "text/plain": [
       "<Figure size 800x600 with 1 Axes>"
      ]
     },
     "metadata": {},
     "output_type": "display_data"
    },
    {
     "data": {
      "text/plain": [
       "<Axes: title={'center': 'Threshold Plot for LogisticRegression'}, xlabel='discrimination threshold', ylabel='score'>"
      ]
     },
     "execution_count": 22,
     "metadata": {},
     "output_type": "execute_result"
    }
   ],
   "source": [
    "#Discrimination threshold plot \n",
    "from yellowbrick.classifier import DiscriminationThreshold\n",
    "warnings.filterwarnings(\"ignore\")\n",
    "visualizer=DiscriminationThreshold(LogisticRegression(),size=(800,600))\n",
    "visualizer.fit(X_train,y_train)\n",
    "visualizer.poof()"
   ]
  },
  {
   "cell_type": "code",
   "execution_count": 23,
   "metadata": {},
   "outputs": [],
   "source": [
    "#fit the logistic regression\n",
    "clf=LogisticRegression().fit(X_train,y_train)"
   ]
  },
  {
   "cell_type": "code",
   "execution_count": 25,
   "metadata": {},
   "outputs": [],
   "source": [
    "# labels prediction\n",
    "y_pred=np.where(clf.predict_proba(X_test)[:,1]>0.35,1.0,0)"
   ]
  },
  {
   "cell_type": "code",
   "execution_count": 26,
   "metadata": {},
   "outputs": [],
   "source": [
    "#transform y_pred array to\n",
    "y_pred=pd.DataFrame(y_pred)"
   ]
  },
  {
   "cell_type": "code",
   "execution_count": 27,
   "metadata": {},
   "outputs": [
    {
     "data": {
      "text/html": [
       "<div>\n",
       "<style scoped>\n",
       "    .dataframe tbody tr th:only-of-type {\n",
       "        vertical-align: middle;\n",
       "    }\n",
       "\n",
       "    .dataframe tbody tr th {\n",
       "        vertical-align: top;\n",
       "    }\n",
       "\n",
       "    .dataframe thead th {\n",
       "        text-align: right;\n",
       "    }\n",
       "</style>\n",
       "<table border=\"1\" class=\"dataframe\">\n",
       "  <thead>\n",
       "    <tr style=\"text-align: right;\">\n",
       "      <th></th>\n",
       "      <th>0</th>\n",
       "    </tr>\n",
       "  </thead>\n",
       "  <tbody>\n",
       "    <tr>\n",
       "      <th>0</th>\n",
       "      <td>1.0</td>\n",
       "    </tr>\n",
       "    <tr>\n",
       "      <th>1</th>\n",
       "      <td>1.0</td>\n",
       "    </tr>\n",
       "    <tr>\n",
       "      <th>2</th>\n",
       "      <td>1.0</td>\n",
       "    </tr>\n",
       "    <tr>\n",
       "      <th>3</th>\n",
       "      <td>1.0</td>\n",
       "    </tr>\n",
       "    <tr>\n",
       "      <th>4</th>\n",
       "      <td>1.0</td>\n",
       "    </tr>\n",
       "    <tr>\n",
       "      <th>...</th>\n",
       "      <td>...</td>\n",
       "    </tr>\n",
       "    <tr>\n",
       "      <th>328</th>\n",
       "      <td>1.0</td>\n",
       "    </tr>\n",
       "    <tr>\n",
       "      <th>329</th>\n",
       "      <td>1.0</td>\n",
       "    </tr>\n",
       "    <tr>\n",
       "      <th>330</th>\n",
       "      <td>1.0</td>\n",
       "    </tr>\n",
       "    <tr>\n",
       "      <th>331</th>\n",
       "      <td>1.0</td>\n",
       "    </tr>\n",
       "    <tr>\n",
       "      <th>332</th>\n",
       "      <td>1.0</td>\n",
       "    </tr>\n",
       "  </tbody>\n",
       "</table>\n",
       "<p>333 rows × 1 columns</p>\n",
       "</div>"
      ],
      "text/plain": [
       "       0\n",
       "0    1.0\n",
       "1    1.0\n",
       "2    1.0\n",
       "3    1.0\n",
       "4    1.0\n",
       "..   ...\n",
       "328  1.0\n",
       "329  1.0\n",
       "330  1.0\n",
       "331  1.0\n",
       "332  1.0\n",
       "\n",
       "[333 rows x 1 columns]"
      ]
     },
     "execution_count": 27,
     "metadata": {},
     "output_type": "execute_result"
    }
   ],
   "source": [
    "y_pred"
   ]
  },
  {
   "cell_type": "markdown",
   "metadata": {},
   "source": [
    "## Precision: \n",
    "is the ratio of correctly predicted positive observations. The question that tis metric answers is \"how many actually survived of all the passengers who are labeled as servived? High precision relates to the low false positive rate. Precision=TP/(TP+FP)\n",
    "## Recall:\n",
    "is the ratio of correctly predicted positive observations to the all observations in actual class- The question that the recall answers is : Of all the passengers that truly survived, how many did we label?\n",
    "Recall=TP/(TP+FN)\n",
    "## F1 score:\n",
    "F1 score is the weighted average of precision and recall. therefore this score takse both positives and false negatives into account. intuitively it is not as easy to understand as accuracy, but F1 is actually more useful than accuracy specially when you have an uneven class distribution\n"
   ]
  },
  {
   "cell_type": "code",
   "execution_count": null,
   "metadata": {},
   "outputs": [],
   "source": [
    "#test\n"
   ]
  },
  {
   "cell_type": "markdown",
   "metadata": {},
   "source": [
    "# Task 5:Adjust the discrimination threshold"
   ]
  },
  {
   "cell_type": "markdown",
   "metadata": {},
   "source": [
    "# Task 5.1: the confusion matrix for discrimination threshold of 0.35"
   ]
  },
  {
   "cell_type": "code",
   "execution_count": 28,
   "metadata": {},
   "outputs": [
    {
     "data": {
      "text/plain": [
       "0.7911646586345381"
      ]
     },
     "execution_count": 28,
     "metadata": {},
     "output_type": "execute_result"
    }
   ],
   "source": [
    "#F1_Score\n",
    "metrics.f1_score(y_test,y_pred)"
   ]
  },
  {
   "cell_type": "code",
   "execution_count": 29,
   "metadata": {},
   "outputs": [
    {
     "name": "stdout",
     "output_type": "stream",
     "text": [
      "tn  32\n",
      "fp  94\n",
      "fn  10\n",
      "tp  197\n"
     ]
    }
   ],
   "source": [
    "#Confusion matrix \n",
    "tn,fp,fn,tp=confusion_matrix(y_test,y_pred).ravel()\n",
    "print(\"tn \",tn)\n",
    "print(\"fp \",fp)\n",
    "print(\"fn \",fn)\n",
    "print(\"tp \",tp)"
   ]
  },
  {
   "cell_type": "code",
   "execution_count": 30,
   "metadata": {},
   "outputs": [
    {
     "data": {
      "text/plain": [
       "0.6876876876876877"
      ]
     },
     "execution_count": 30,
     "metadata": {},
     "output_type": "execute_result"
    }
   ],
   "source": [
    "#test accuracy\n",
    "test_accuracy=metrics.accuracy_score(y_test,y_pred)\n",
    "test_accuracy"
   ]
  },
  {
   "cell_type": "code",
   "execution_count": 33,
   "metadata": {},
   "outputs": [
    {
     "data": {
      "text/plain": [
       "0.6769759450171822"
      ]
     },
     "execution_count": 33,
     "metadata": {},
     "output_type": "execute_result"
    }
   ],
   "source": [
    "#precision score\n",
    "precision_score=metrics.precision_score(y_test,y_pred)\n",
    "precision_score"
   ]
  },
  {
   "cell_type": "code",
   "execution_count": 34,
   "metadata": {},
   "outputs": [
    {
     "data": {
      "text/plain": [
       "0.6769759450171822"
      ]
     },
     "execution_count": 34,
     "metadata": {},
     "output_type": "execute_result"
    }
   ],
   "source": [
    "#recall score\n",
    "recall_score=metrics.precision_score(y_test,y_pred)\n",
    "recall_score"
   ]
  },
  {
   "cell_type": "markdown",
   "metadata": {},
   "source": [
    "# Task 5.2: the confusion matrix for discrimination threshold of 0.8"
   ]
  },
  {
   "cell_type": "code",
   "execution_count": 36,
   "metadata": {},
   "outputs": [],
   "source": [
    "#Class label prediction\n",
    "y_pred=np.where(clf.predict_proba(X_test)[:,1]>0.8,1.0,0)\n",
    "y_pred=pd.DataFrame(y_pred)"
   ]
  },
  {
   "cell_type": "code",
   "execution_count": 37,
   "metadata": {},
   "outputs": [
    {
     "data": {
      "text/plain": [
       "0.45878136200716846"
      ]
     },
     "execution_count": 37,
     "metadata": {},
     "output_type": "execute_result"
    }
   ],
   "source": [
    "#F1_Score\n",
    "metrics.f1_score(y_test,y_pred)"
   ]
  },
  {
   "cell_type": "code",
   "execution_count": 38,
   "metadata": {},
   "outputs": [
    {
     "name": "stdout",
     "output_type": "stream",
     "text": [
      "tn  118\n",
      "fp  8\n",
      "fn  143\n",
      "tp  64\n"
     ]
    }
   ],
   "source": [
    "#Confusion matrix\n",
    "#Confusion matrix \n",
    "tn,fp,fn,tp=confusion_matrix(y_test,y_pred).ravel()\n",
    "print(\"tn \",tn)\n",
    "print(\"fp \",fp)\n",
    "print(\"fn \",fn)\n",
    "print(\"tp \",tp)"
   ]
  },
  {
   "cell_type": "code",
   "execution_count": 39,
   "metadata": {},
   "outputs": [
    {
     "data": {
      "text/plain": [
       "0.5465465465465466"
      ]
     },
     "execution_count": 39,
     "metadata": {},
     "output_type": "execute_result"
    }
   ],
   "source": [
    "#test accuracy\n",
    "#test accuracy\n",
    "test_accuracy=metrics.accuracy_score(y_test,y_pred)\n",
    "test_accuracy"
   ]
  },
  {
   "cell_type": "code",
   "execution_count": 40,
   "metadata": {},
   "outputs": [
    {
     "data": {
      "text/plain": [
       "0.8888888888888888"
      ]
     },
     "execution_count": 40,
     "metadata": {},
     "output_type": "execute_result"
    }
   ],
   "source": [
    "#precision score\n",
    "precision_score=metrics.precision_score(y_test,y_pred)\n",
    "precision_score"
   ]
  },
  {
   "cell_type": "code",
   "execution_count": 41,
   "metadata": {},
   "outputs": [
    {
     "data": {
      "text/plain": [
       "0.8888888888888888"
      ]
     },
     "execution_count": 41,
     "metadata": {},
     "output_type": "execute_result"
    }
   ],
   "source": [
    "#recall score\n",
    "recall_score=metrics.precision_score(y_test,y_pred)\n",
    "recall_score"
   ]
  },
  {
   "cell_type": "markdown",
   "metadata": {},
   "source": [
    "# Task 5.3: the confusion matrix for discrimination threshold of 0.2"
   ]
  },
  {
   "cell_type": "code",
   "execution_count": 42,
   "metadata": {},
   "outputs": [],
   "source": [
    "#Class label prediction\n",
    "y_pred=np.where(clf.predict_proba(X_test)[:,1]>0.2,1.0,0)\n",
    "y_pred=pd.DataFrame(y_pred)"
   ]
  },
  {
   "cell_type": "code",
   "execution_count": 43,
   "metadata": {},
   "outputs": [
    {
     "data": {
      "text/plain": [
       "0.770949720670391"
      ]
     },
     "execution_count": 43,
     "metadata": {},
     "output_type": "execute_result"
    }
   ],
   "source": [
    "#F1_Score\n",
    "metrics.f1_score(y_test,y_pred)"
   ]
  },
  {
   "cell_type": "code",
   "execution_count": 44,
   "metadata": {},
   "outputs": [
    {
     "name": "stdout",
     "output_type": "stream",
     "text": [
      "tn  3\n",
      "fp  123\n",
      "fn  0\n",
      "tp  207\n"
     ]
    }
   ],
   "source": [
    "#Confusion matrix\n",
    "tn,fp,fn,tp=confusion_matrix(y_test,y_pred).ravel()\n",
    "print(\"tn \",tn)\n",
    "print(\"fp \",fp)\n",
    "print(\"fn \",fn)\n",
    "print(\"tp \",tp)"
   ]
  },
  {
   "cell_type": "code",
   "execution_count": 45,
   "metadata": {},
   "outputs": [
    {
     "data": {
      "text/plain": [
       "0.6306306306306306"
      ]
     },
     "execution_count": 45,
     "metadata": {},
     "output_type": "execute_result"
    }
   ],
   "source": [
    "#test accuracy\n",
    "test_accuracy=metrics.accuracy_score(y_test,y_pred)\n",
    "test_accuracy"
   ]
  },
  {
   "cell_type": "code",
   "execution_count": 46,
   "metadata": {},
   "outputs": [
    {
     "data": {
      "text/plain": [
       "0.6272727272727273"
      ]
     },
     "execution_count": 46,
     "metadata": {},
     "output_type": "execute_result"
    }
   ],
   "source": [
    "#precision score\n",
    "precision_score=metrics.precision_score(y_test,y_pred)\n",
    "precision_score"
   ]
  },
  {
   "cell_type": "code",
   "execution_count": 47,
   "metadata": {},
   "outputs": [
    {
     "data": {
      "text/plain": [
       "0.6272727272727273"
      ]
     },
     "execution_count": 47,
     "metadata": {},
     "output_type": "execute_result"
    }
   ],
   "source": [
    "#recall score\n",
    "recall_score=metrics.precision_score(y_test,y_pred)\n",
    "recall_score"
   ]
  },
  {
   "cell_type": "code",
   "execution_count": null,
   "metadata": {},
   "outputs": [],
   "source": []
  }
 ],
 "metadata": {
  "kernelspec": {
   "display_name": "Python 3 (ipykernel)",
   "language": "python",
   "name": "python3"
  },
  "language_info": {
   "codemirror_mode": {
    "name": "ipython",
    "version": 3
   },
   "file_extension": ".py",
   "mimetype": "text/x-python",
   "name": "python",
   "nbconvert_exporter": "python",
   "pygments_lexer": "ipython3",
   "version": "3.11.8"
  }
 },
 "nbformat": 4,
 "nbformat_minor": 4
}
